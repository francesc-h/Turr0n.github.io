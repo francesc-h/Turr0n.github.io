{
 "cells": [
  {
   "cell_type": "code",
   "execution_count": 5,
   "id": "c5f45567",
   "metadata": {},
   "outputs": [],
   "source": [
    "import pandas as pd\n",
    "import json\n",
    "\n",
    "df = pd.read_csv(\"./stat_basiques_barris.csv\")\n",
    "\n",
    "with open(\"./full_barris.geojson\") as f:\n",
    "    barris = json.load(f)"
   ]
  },
  {
   "cell_type": "code",
   "execution_count": 6,
   "id": "e3dd54c7",
   "metadata": {},
   "outputs": [],
   "source": [
    "for barri in barris[\"features\"]:\n",
    "    id = int(barri[\"properties\"][\"coddistbar\"])\n",
    "    \n",
    "    # Afegim el contingut de la fila corresponent del df\n",
    "    # Ignorem la primera columna (id del barri)\n",
    "    data = df[df[\"DTBA\"] == id].iloc[0, 1:].to_dict()\n",
    "    barri[\"properties\"] = {**barri[\"properties\"], **data}"
   ]
  },
  {
   "cell_type": "code",
   "execution_count": 7,
   "id": "ed946a29",
   "metadata": {},
   "outputs": [],
   "source": [
    "with open(\"./Barrios.JSON\", \"w\", encoding=\"utf-8\") as f:\n",
    "    json.dump(barris, f)"
   ]
  },
  {
   "cell_type": "code",
   "execution_count": 8,
   "id": "356a76e4",
   "metadata": {},
   "outputs": [
    {
     "data": {
      "text/plain": [
       "{'coddistbar': '111',\n",
       " 'geo_point_2d': {'lon': -0.3237063132818091, 'lat': 39.44375401975586},\n",
       " 'nombre': 'EL GRAU',\n",
       " 'codbarrio': '1',\n",
       " 'coddistrit': '11',\n",
       " 'gis_gis_barrios_area': None,\n",
       " 'linkid': 0,\n",
       " 'globalid': '{FCF0397B-01DA-4705-8657-793CDE305A43}',\n",
       " 'població': 9718.0,\n",
       " 'densitat': 13553.6959553696,\n",
       " 'envelliment': 129.676934635612,\n",
       " 'superficie habitatges': 102.575521381925,\n",
       " 'renda mitjana': 11897.0398515122}"
      ]
     },
     "execution_count": 8,
     "metadata": {},
     "output_type": "execute_result"
    }
   ],
   "source": [
    "barris[\"features\"][0][\"properties\"]"
   ]
  }
 ],
 "metadata": {
  "kernelspec": {
   "display_name": "Python 3",
   "language": "python",
   "name": "python3"
  },
  "language_info": {
   "codemirror_mode": {
    "name": "ipython",
    "version": 3
   },
   "file_extension": ".py",
   "mimetype": "text/x-python",
   "name": "python",
   "nbconvert_exporter": "python",
   "pygments_lexer": "ipython3",
   "version": "3.8.5"
  }
 },
 "nbformat": 4,
 "nbformat_minor": 5
}
